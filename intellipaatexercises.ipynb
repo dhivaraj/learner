{
  "nbformat": 4,
  "nbformat_minor": 0,
  "metadata": {
    "colab": {
      "name": "intellipaatexercises.ipynb",
      "provenance": [],
      "authorship_tag": "ABX9TyMdb19fQ5TMC9y7N2f8sC9g",
      "include_colab_link": true
    },
    "kernelspec": {
      "name": "python3",
      "display_name": "Python 3"
    },
    "language_info": {
      "name": "python"
    }
  },
  "cells": [
    {
      "cell_type": "markdown",
      "metadata": {
        "id": "view-in-github",
        "colab_type": "text"
      },
      "source": [
        "<a href=\"https://colab.research.google.com/github/dhivaraj/learner/blob/main/intellipaatexercises.ipynb\" target=\"_parent\"><img src=\"https://colab.research.google.com/assets/colab-badge.svg\" alt=\"Open In Colab\"/></a>"
      ]
    },
    {
      "cell_type": "code",
      "source": [
        ""
      ],
      "metadata": {
        "id": "f7_F6qxOfwpX"
      },
      "execution_count": null,
      "outputs": []
    },
    {
      "cell_type": "code",
      "source": [
        ""
      ],
      "metadata": {
        "id": "fgvoRzSrf0oS"
      },
      "execution_count": null,
      "outputs": []
    },
    {
      "cell_type": "code",
      "source": [
        ""
      ],
      "metadata": {
        "id": "uEsJgQBff0yw"
      },
      "execution_count": null,
      "outputs": []
    },
    {
      "cell_type": "code",
      "source": [
        ""
      ],
      "metadata": {
        "id": "fIJToEsGf01a"
      },
      "execution_count": null,
      "outputs": []
    },
    {
      "cell_type": "code",
      "source": [
        ""
      ],
      "metadata": {
        "id": "ciEsbi64f037"
      },
      "execution_count": null,
      "outputs": []
    },
    {
      "cell_type": "code",
      "source": [
        ""
      ],
      "metadata": {
        "id": "WDib3xJTf06r"
      },
      "execution_count": null,
      "outputs": []
    },
    {
      "cell_type": "code",
      "source": [
        ""
      ],
      "metadata": {
        "id": "zVd8RUyFf09P"
      },
      "execution_count": null,
      "outputs": []
    },
    {
      "cell_type": "code",
      "source": [
        ""
      ],
      "metadata": {
        "id": "N7WON4HRf1Ao"
      },
      "execution_count": null,
      "outputs": []
    },
    {
      "cell_type": "code",
      "source": [
        ""
      ],
      "metadata": {
        "id": "LrKK5z97fwjh"
      },
      "execution_count": null,
      "outputs": []
    },
    {
      "cell_type": "code",
      "source": [
        "x = []\n",
        "for a in range(1,21):\n",
        "  x.append(a**2)\n",
        "print(x)\n"
      ],
      "metadata": {
        "colab": {
          "base_uri": "https://localhost:8080/"
        },
        "id": "dWj9sDvkqW7R",
        "outputId": "01fc2126-dc79-400b-d078-bb705a6055e1"
      },
      "execution_count": 5,
      "outputs": [
        {
          "output_type": "stream",
          "name": "stdout",
          "text": [
            "[1, 4, 9, 16, 25, 36, 49, 64, 81, 100, 121, 144, 169, 196, 225, 256, 289, 324, 361, 400]\n"
          ]
        }
      ]
    },
    {
      "cell_type": "code",
      "source": [
        "for r in range(1,11):\n",
        "  q={r:r**2}\n",
        "  print(q) "
      ],
      "metadata": {
        "colab": {
          "base_uri": "https://localhost:8080/"
        },
        "id": "eTpJ0A0YqW4A",
        "outputId": "a440b80a-2e34-4b7f-b33a-a4468ae00e93"
      },
      "execution_count": 21,
      "outputs": [
        {
          "output_type": "stream",
          "name": "stdout",
          "text": [
            "{1: 1}\n",
            "{2: 4}\n",
            "{3: 9}\n",
            "{4: 16}\n",
            "{5: 25}\n",
            "{6: 36}\n",
            "{7: 49}\n",
            "{8: 64}\n",
            "{9: 81}\n",
            "{10: 100}\n"
          ]
        }
      ]
    },
    {
      "cell_type": "code",
      "source": [
        "k = {e:e**2 for e in range(1,11)}\n",
        "print(k)"
      ],
      "metadata": {
        "colab": {
          "base_uri": "https://localhost:8080/"
        },
        "id": "-wgNSjJGqW08",
        "outputId": "16c83da6-58d1-4c05-c7a7-4baf50a2f8c7"
      },
      "execution_count": 13,
      "outputs": [
        {
          "output_type": "stream",
          "name": "stdout",
          "text": [
            "{1: 1, 2: 4, 3: 9, 4: 16, 5: 25, 6: 36, 7: 49, 8: 64, 9: 81, 10: 100}\n"
          ]
        }
      ]
    },
    {
      "cell_type": "code",
      "source": [
        "for r in range(1,11):\n",
        "  print(f'{r} : {r**2}') "
      ],
      "metadata": {
        "colab": {
          "base_uri": "https://localhost:8080/"
        },
        "id": "dxWv83HoqWxz",
        "outputId": "7e8bd9a3-d446-4d7c-9b44-6d2aac379f6f"
      },
      "execution_count": 26,
      "outputs": [
        {
          "output_type": "stream",
          "name": "stdout",
          "text": [
            "1 : 1\n",
            "2 : 4\n",
            "3 : 9\n",
            "4 : 16\n",
            "5 : 25\n",
            "6 : 36\n",
            "7 : 49\n",
            "8 : 64\n",
            "9 : 81\n",
            "10 : 100\n"
          ]
        }
      ]
    },
    {
      "cell_type": "code",
      "source": [
        "s = tuple()\n",
        "for s in range (1,21):\n",
        "  if s%2 ==0:\n",
        "    print (s)"
      ],
      "metadata": {
        "colab": {
          "base_uri": "https://localhost:8080/"
        },
        "id": "cPb9vhUtqWpL",
        "outputId": "30650c1d-38e9-48f2-ccc1-9867cecccb52"
      },
      "execution_count": 36,
      "outputs": [
        {
          "output_type": "stream",
          "name": "stdout",
          "text": [
            "2\n",
            "4\n",
            "6\n",
            "8\n",
            "10\n",
            "12\n",
            "14\n",
            "16\n",
            "18\n",
            "20\n"
          ]
        }
      ]
    },
    {
      "cell_type": "code",
      "source": [
        "f = tuple(range(2,21,2))\n",
        "for d in f: \n",
        "  print(d)    "
      ],
      "metadata": {
        "colab": {
          "base_uri": "https://localhost:8080/"
        },
        "id": "EFq7XgMmqWlu",
        "outputId": "c3a23c12-ee84-466a-d3d2-e8c02b241e0e"
      },
      "execution_count": 63,
      "outputs": [
        {
          "output_type": "stream",
          "name": "stdout",
          "text": [
            "2\n",
            "4\n",
            "6\n",
            "8\n",
            "10\n",
            "12\n",
            "14\n",
            "16\n",
            "18\n",
            "20\n"
          ]
        }
      ]
    },
    {
      "cell_type": "code",
      "source": [
        "f = tuple([d for d in range(2,21,2)])\n",
        "print(f)"
      ],
      "metadata": {
        "colab": {
          "base_uri": "https://localhost:8080/"
        },
        "id": "Eq0o1EqqqWj5",
        "outputId": "f596b813-c62c-44f9-e38d-9409b9b98c8d"
      },
      "execution_count": 59,
      "outputs": [
        {
          "output_type": "stream",
          "name": "stdout",
          "text": [
            "(2, 4, 6, 8, 10, 12, 14, 16, 18, 20)\n"
          ]
        }
      ]
    },
    {
      "cell_type": "code",
      "source": [
        "g = set([c for c in range(1,21,2)])\n",
        "print(g)"
      ],
      "metadata": {
        "colab": {
          "base_uri": "https://localhost:8080/"
        },
        "id": "_nhWJZAN2M0j",
        "outputId": "c8dacb5d-ae7b-4e40-d22a-43da1bd0a13b"
      },
      "execution_count": 65,
      "outputs": [
        {
          "output_type": "stream",
          "name": "stdout",
          "text": [
            "{1, 3, 5, 7, 9, 11, 13, 15, 17, 19}\n"
          ]
        }
      ]
    },
    {
      "cell_type": "code",
      "source": [
        "g = set([c for c in range(1,21) if c%2 !=0])\n",
        "print(g)"
      ],
      "metadata": {
        "colab": {
          "base_uri": "https://localhost:8080/"
        },
        "id": "gTm5SZ-92Mxa",
        "outputId": "2a14a44f-16ec-4f50-b91b-444d7f3df443"
      },
      "execution_count": 66,
      "outputs": [
        {
          "output_type": "stream",
          "name": "stdout",
          "text": [
            "{1, 3, 5, 7, 9, 11, 13, 15, 17, 19}\n"
          ]
        }
      ]
    },
    {
      "cell_type": "code",
      "source": [
        "a = [[1,2],[3,4],[5,6],[7,8]]\n",
        "for s in a:\n",
        "  for t in s:\n",
        "    print(t)"
      ],
      "metadata": {
        "colab": {
          "base_uri": "https://localhost:8080/"
        },
        "id": "qCsB1rYm2MvL",
        "outputId": "042b6251-dd0d-437e-c331-3bd366d84aab"
      },
      "execution_count": 73,
      "outputs": [
        {
          "output_type": "stream",
          "name": "stdout",
          "text": [
            "1\n",
            "2\n",
            "3\n",
            "4\n",
            "5\n",
            "6\n",
            "7\n",
            "8\n"
          ]
        }
      ]
    },
    {
      "cell_type": "code",
      "source": [
        "a = {1: {'one':1}, 2: {'two':2}, 3: {'three':3}}\n",
        "for i in a.values():\n",
        "  print(i)\n",
        "  for j in i.values():\n",
        "    print(j)"
      ],
      "metadata": {
        "colab": {
          "base_uri": "https://localhost:8080/"
        },
        "id": "pB7dXglv2MtF",
        "outputId": "f21bb54a-fd96-46e0-f453-1ca89cf7c165"
      },
      "execution_count": 75,
      "outputs": [
        {
          "output_type": "stream",
          "name": "stdout",
          "text": [
            "{'one': 1}\n",
            "1\n",
            "{'two': 2}\n",
            "2\n",
            "{'three': 3}\n",
            "3\n"
          ]
        }
      ]
    },
    {
      "cell_type": "code",
      "source": [
        "a = {1: {'one':1}, 2: {'two':2}, 3: {'three':3}}\n",
        "for i in a.values():\n",
        "  print(i)"
      ],
      "metadata": {
        "colab": {
          "base_uri": "https://localhost:8080/"
        },
        "id": "4C-DUzBm2Mqx",
        "outputId": "77a7e52f-361e-4ce5-f929-6127a12eee31"
      },
      "execution_count": 76,
      "outputs": [
        {
          "output_type": "stream",
          "name": "stdout",
          "text": [
            "{'one': 1}\n",
            "{'two': 2}\n",
            "{'three': 3}\n"
          ]
        }
      ]
    },
    {
      "cell_type": "code",
      "source": [
        "a = list(range(1,101))\n",
        "i = 0\n",
        "while i <= len(a):\n",
        "  i += 1 \n",
        "  if i%2==0:\n",
        "    print(i,\"\", end='')"
      ],
      "metadata": {
        "colab": {
          "base_uri": "https://localhost:8080/"
        },
        "id": "DM8WpSI82Mon",
        "outputId": "57329c2b-ecc6-4d20-e1c1-e572e263248e"
      },
      "execution_count": 90,
      "outputs": [
        {
          "output_type": "stream",
          "name": "stdout",
          "text": [
            "2 4 6 8 10 12 14 16 18 20 22 24 26 28 30 32 34 36 38 40 42 44 46 48 50 52 54 56 58 60 62 64 66 68 70 72 74 76 78 80 82 84 86 88 90 92 94 96 98 100 "
          ]
        }
      ]
    },
    {
      "cell_type": "code",
      "source": [
        "i = 1\n",
        "while i < 6:\n",
        "  print(i*3)\n",
        "  i += 1\n",
        "\n"
      ],
      "metadata": {
        "colab": {
          "base_uri": "https://localhost:8080/"
        },
        "id": "WHMzdJTX2MmT",
        "outputId": "775f5e1a-eeff-4d8c-9ae9-9f4066e5d47d"
      },
      "execution_count": 94,
      "outputs": [
        {
          "output_type": "stream",
          "name": "stdout",
          "text": [
            "3\n",
            "6\n",
            "9\n",
            "12\n",
            "15\n"
          ]
        }
      ]
    },
    {
      "cell_type": "code",
      "source": [
        "a= {d:d*d*d}\n",
        "d= 1\n",
        "while d in range (1,11):\n",
        "  d +=1\n",
        "  print(a)\n",
        "  "
      ],
      "metadata": {
        "colab": {
          "base_uri": "https://localhost:8080/"
        },
        "id": "s9e9M1I62MkA",
        "outputId": "a5a263e6-cb78-4623-b8c3-23b059cbea37"
      },
      "execution_count": 102,
      "outputs": [
        {
          "output_type": "stream",
          "name": "stdout",
          "text": [
            "{11: 1331}\n",
            "{11: 1331}\n",
            "{11: 1331}\n",
            "{11: 1331}\n",
            "{11: 1331}\n",
            "{11: 1331}\n",
            "{11: 1331}\n",
            "{11: 1331}\n",
            "{11: 1331}\n",
            "{11: 1331}\n"
          ]
        }
      ]
    },
    {
      "cell_type": "code",
      "source": [
        "a = {i: i*i*i for i in range(1,11)}\n",
        "b = 1\n",
        "while b <= len(a):\n",
        "  b +=1\n",
        "  print(a)"
      ],
      "metadata": {
        "colab": {
          "base_uri": "https://localhost:8080/"
        },
        "id": "sNUOC2rR2MhG",
        "outputId": "c4a907ed-6eab-4ceb-f482-54276e0e09ce"
      },
      "execution_count": 113,
      "outputs": [
        {
          "output_type": "stream",
          "name": "stdout",
          "text": [
            "{1: 1, 2: 8, 3: 27, 4: 64, 5: 125, 6: 216, 7: 343, 8: 512, 9: 729, 10: 1000}\n",
            "{1: 1, 2: 8, 3: 27, 4: 64, 5: 125, 6: 216, 7: 343, 8: 512, 9: 729, 10: 1000}\n",
            "{1: 1, 2: 8, 3: 27, 4: 64, 5: 125, 6: 216, 7: 343, 8: 512, 9: 729, 10: 1000}\n",
            "{1: 1, 2: 8, 3: 27, 4: 64, 5: 125, 6: 216, 7: 343, 8: 512, 9: 729, 10: 1000}\n",
            "{1: 1, 2: 8, 3: 27, 4: 64, 5: 125, 6: 216, 7: 343, 8: 512, 9: 729, 10: 1000}\n",
            "{1: 1, 2: 8, 3: 27, 4: 64, 5: 125, 6: 216, 7: 343, 8: 512, 9: 729, 10: 1000}\n",
            "{1: 1, 2: 8, 3: 27, 4: 64, 5: 125, 6: 216, 7: 343, 8: 512, 9: 729, 10: 1000}\n",
            "{1: 1, 2: 8, 3: 27, 4: 64, 5: 125, 6: 216, 7: 343, 8: 512, 9: 729, 10: 1000}\n",
            "{1: 1, 2: 8, 3: 27, 4: 64, 5: 125, 6: 216, 7: 343, 8: 512, 9: 729, 10: 1000}\n",
            "{1: 1, 2: 8, 3: 27, 4: 64, 5: 125, 6: 216, 7: 343, 8: 512, 9: 729, 10: 1000}\n"
          ]
        }
      ]
    },
    {
      "cell_type": "code",
      "source": [
        "for f in range (0,10):\n",
        "  while f < 11:\n",
        "    "
      ],
      "metadata": {
        "id": "Fhi-0zocKSbD"
      },
      "execution_count": null,
      "outputs": []
    },
    {
      "cell_type": "code",
      "source": [
        "for num in range (1,8):\n",
        "  print(\"*\"*num)"
      ],
      "metadata": {
        "colab": {
          "base_uri": "https://localhost:8080/"
        },
        "id": "JFbjjkc3KSXn",
        "outputId": "46b3cf26-31a2-4ef6-f5f4-f46ea11d55f7"
      },
      "execution_count": 114,
      "outputs": [
        {
          "output_type": "stream",
          "name": "stdout",
          "text": [
            "*\n",
            "**\n",
            "***\n",
            "****\n",
            "*****\n",
            "******\n",
            "*******\n"
          ]
        }
      ]
    },
    {
      "cell_type": "code",
      "source": [
        ""
      ],
      "metadata": {
        "id": "wJx6l1vJKSVl"
      },
      "execution_count": null,
      "outputs": []
    },
    {
      "cell_type": "code",
      "source": [
        ""
      ],
      "metadata": {
        "id": "vKMwqahUKSTW"
      },
      "execution_count": null,
      "outputs": []
    },
    {
      "cell_type": "code",
      "source": [
        ""
      ],
      "metadata": {
        "id": "BWnD6zF7KSQ0"
      },
      "execution_count": null,
      "outputs": []
    },
    {
      "cell_type": "code",
      "source": [
        ""
      ],
      "metadata": {
        "id": "NbYKEbMsKSOm"
      },
      "execution_count": null,
      "outputs": []
    },
    {
      "cell_type": "code",
      "source": [
        ""
      ],
      "metadata": {
        "id": "3ocS8jbKKSL9"
      },
      "execution_count": null,
      "outputs": []
    },
    {
      "cell_type": "code",
      "source": [
        "f = tuple([d for d in range(2,21) if d%2==0])\n",
        "print(f)"
      ],
      "metadata": {
        "colab": {
          "base_uri": "https://localhost:8080/"
        },
        "id": "6ivPVpqnqWhM",
        "outputId": "b4531dcd-01e9-4ef6-c584-17d0d7634c68"
      },
      "execution_count": 60,
      "outputs": [
        {
          "output_type": "stream",
          "name": "stdout",
          "text": [
            "(2, 4, 6, 8, 10, 12, 14, 16, 18, 20)\n"
          ]
        }
      ]
    },
    {
      "cell_type": "code",
      "source": [
        "print(\"Hello Sir\")\n",
        "name=input('enter your name')\n",
        "password=input('ENTER YOUR PASSWORD')\n",
        "if name==\"user1\":\n",
        "  if password=='1234':\n",
        "   print('welcome_user1')\n",
        "   loanamount=int(input('enter your loan amount'))\n",
        "   if loanamount>10000:\n",
        "    print (\"you are eligible\")\n",
        "    APR=input(\"enter the APR\")\n",
        "    if APR>5 or APR<15:\n",
        "      print (\"yes, you are eligible\")\n",
        "    else:\n",
        "      print('uh oh.. credentials are incorrect')\n",
        "   else:\n",
        "     print(\"Please talk to customer care\")\n",
        "else:  \n",
        "  print(\"invalid data, please retry\")"
      ],
      "metadata": {
        "colab": {
          "base_uri": "https://localhost:8080/",
          "height": 356
        },
        "id": "6wuMuukTxRfy",
        "outputId": "406a9ea3-2653-423b-8873-613777de5899"
      },
      "execution_count": null,
      "outputs": [
        {
          "name": "stdout",
          "output_type": "stream",
          "text": [
            "Hello Sir\n",
            "enter your nameuser1\n",
            "ENTER YOUR PASSWORD1234\n",
            "welcome_user1\n",
            "enter your loan amount100001\n",
            "you are eligible\n",
            "enter the APR10\n"
          ]
        },
        {
          "output_type": "error",
          "ename": "TypeError",
          "evalue": "ignored",
          "traceback": [
            "\u001b[0;31m---------------------------------------------------------------------------\u001b[0m",
            "\u001b[0;31mTypeError\u001b[0m                                 Traceback (most recent call last)",
            "\u001b[0;32m<ipython-input-3-a2aa90d0aba7>\u001b[0m in \u001b[0;36m<module>\u001b[0;34m()\u001b[0m\n\u001b[1;32m      9\u001b[0m     \u001b[0mprint\u001b[0m \u001b[0;34m(\u001b[0m\u001b[0;34m\"you are eligible\"\u001b[0m\u001b[0;34m)\u001b[0m\u001b[0;34m\u001b[0m\u001b[0;34m\u001b[0m\u001b[0m\n\u001b[1;32m     10\u001b[0m     \u001b[0mAPR\u001b[0m\u001b[0;34m=\u001b[0m\u001b[0minput\u001b[0m\u001b[0;34m(\u001b[0m\u001b[0;34m\"enter the APR\"\u001b[0m\u001b[0;34m)\u001b[0m\u001b[0;34m\u001b[0m\u001b[0;34m\u001b[0m\u001b[0m\n\u001b[0;32m---> 11\u001b[0;31m     \u001b[0;32mif\u001b[0m \u001b[0mAPR\u001b[0m\u001b[0;34m>\u001b[0m\u001b[0;36m5\u001b[0m \u001b[0;32mor\u001b[0m \u001b[0mAPR\u001b[0m\u001b[0;34m<\u001b[0m\u001b[0;36m15\u001b[0m\u001b[0;34m:\u001b[0m\u001b[0;34m\u001b[0m\u001b[0;34m\u001b[0m\u001b[0m\n\u001b[0m\u001b[1;32m     12\u001b[0m       \u001b[0mprint\u001b[0m \u001b[0;34m(\u001b[0m\u001b[0;34m\"yes, you are eligible\"\u001b[0m\u001b[0;34m)\u001b[0m\u001b[0;34m\u001b[0m\u001b[0;34m\u001b[0m\u001b[0m\n\u001b[1;32m     13\u001b[0m     \u001b[0;32melse\u001b[0m\u001b[0;34m:\u001b[0m\u001b[0;34m\u001b[0m\u001b[0;34m\u001b[0m\u001b[0m\n",
            "\u001b[0;31mTypeError\u001b[0m: '>' not supported between instances of 'str' and 'int'"
          ]
        }
      ]
    },
    {
      "cell_type": "code",
      "source": [
        ""
      ],
      "metadata": {
        "id": "54IAumX5fwl9"
      },
      "execution_count": null,
      "outputs": []
    },
    {
      "cell_type": "code",
      "source": [
        ""
      ],
      "metadata": {
        "id": "Ma1wzTA-2wi8"
      },
      "execution_count": null,
      "outputs": []
    },
    {
      "cell_type": "code",
      "source": [
        ""
      ],
      "metadata": {
        "id": "zcTp1ZNx4jI6"
      },
      "execution_count": null,
      "outputs": []
    },
    {
      "cell_type": "code",
      "source": [
        ""
      ],
      "metadata": {
        "id": "TYR5ZNQCxTdd"
      },
      "execution_count": null,
      "outputs": []
    },
    {
      "cell_type": "code",
      "source": [
        ""
      ],
      "metadata": {
        "id": "XjP6bGI3xTZF"
      },
      "execution_count": null,
      "outputs": []
    },
    {
      "cell_type": "code",
      "source": [
        ""
      ],
      "metadata": {
        "id": "JyK8ZMWuxTQz"
      },
      "execution_count": null,
      "outputs": []
    },
    {
      "cell_type": "code",
      "source": [
        "name=input(\"enter the name\")\n",
        "password=input(\"rocky\")\n",
        "if name==\"baba\":\n",
        "  if password==\"rama\":\n",
        "    print(\"welcomebabaji\")\n",
        "  else:\n",
        "    print(\"passwrod incorrect\")\n",
        "elif name==\"raja\":\n",
        "  if password==\"rama\":\n",
        "    print(\"welcomerajaji\")\n",
        "  else:\n",
        "      print(\"poda\")"
      ],
      "metadata": {
        "colab": {
          "base_uri": "https://localhost:8080/"
        },
        "id": "Le_0u8iXtoBD",
        "outputId": "7a51f146-fc48-4844-91c3-e7aaf884316a"
      },
      "execution_count": null,
      "outputs": [
        {
          "output_type": "stream",
          "name": "stdout",
          "text": [
            "enter the namebaba\n",
            "rockyrama\n",
            "welcomebabaji\n"
          ]
        }
      ]
    },
    {
      "cell_type": "code",
      "source": [
        ""
      ],
      "metadata": {
        "id": "D2rqgP2zxTNT"
      },
      "execution_count": null,
      "outputs": []
    },
    {
      "cell_type": "code",
      "source": [
        ""
      ],
      "metadata": {
        "id": "lEt-SAlPxTLK"
      },
      "execution_count": null,
      "outputs": []
    },
    {
      "cell_type": "code",
      "source": [
        "name=input(\"enter your name\")\n",
        "if name == \"Dhivagar\":\n",
        "  print(\"Welcome\")\n",
        "elif name == \"raja\":\n",
        "  print(\"hello bro\")\n",
        "else:\n",
        "  print(\"access declined\")"
      ],
      "metadata": {
        "colab": {
          "base_uri": "https://localhost:8080/"
        },
        "id": "d-GOZu56rSfk",
        "outputId": "a7acb430-210b-442c-a543-521758f20b80"
      },
      "execution_count": null,
      "outputs": [
        {
          "output_type": "stream",
          "name": "stdout",
          "text": [
            "enter your namedas\n",
            "access declined\n"
          ]
        }
      ]
    },
    {
      "cell_type": "code",
      "source": [
        "#datatype\n",
        "#int float string boolean list tuple sets dictionary {key : value}\n",
        "  #list[] tuple() sets{} - containers for different data types"
      ],
      "metadata": {
        "id": "Visp4tP4_LhX"
      },
      "execution_count": null,
      "outputs": []
    },
    {
      "cell_type": "code",
      "source": [
        "#Nestedif"
      ],
      "metadata": {
        "id": "cQFjkExztlhv"
      },
      "execution_count": null,
      "outputs": []
    },
    {
      "cell_type": "code",
      "source": [
        "#create a data structure\n",
        "a=[]\n",
        "a=list()\n",
        "a=[1,2,'python', True]"
      ],
      "metadata": {
        "id": "-Bfs6DQxAG8m"
      },
      "execution_count": null,
      "outputs": []
    },
    {
      "cell_type": "code",
      "source": [
        "a= \"dhivagar\"\n",
        "a[7:8:1]"
      ],
      "metadata": {
        "colab": {
          "base_uri": "https://localhost:8080/",
          "height": 36
        },
        "id": "tu-20wRsJ0wh",
        "outputId": "d9fd2e62-faec-4c89-baf4-a0d27791e7ad"
      },
      "execution_count": null,
      "outputs": [
        {
          "output_type": "execute_result",
          "data": {
            "text/plain": [
              "'r'"
            ],
            "application/vnd.google.colaboratory.intrinsic+json": {
              "type": "string"
            }
          },
          "metadata": {},
          "execution_count": 34
        }
      ]
    },
    {
      "cell_type": "code",
      "source": [
        "s=[1,2,3,4,5]\n",
        "s[-2:-1]"
      ],
      "metadata": {
        "colab": {
          "base_uri": "https://localhost:8080/"
        },
        "id": "NCwBlI4wLjPD",
        "outputId": "6894db27-c752-47ed-90dc-842c2d0d6b5b"
      },
      "execution_count": null,
      "outputs": [
        {
          "output_type": "execute_result",
          "data": {
            "text/plain": [
              "[4]"
            ]
          },
          "metadata": {},
          "execution_count": 24
        }
      ]
    },
    {
      "cell_type": "code",
      "source": [
        "#multiple variable declaration\n",
        "a=b=c=5\n",
        "a"
      ],
      "metadata": {
        "colab": {
          "base_uri": "https://localhost:8080/"
        },
        "id": "Opxuz5f3-izS",
        "outputId": "6d58c99f-f2ec-4894-b488-8464cde987e2"
      },
      "execution_count": null,
      "outputs": [
        {
          "output_type": "execute_result",
          "data": {
            "text/plain": [
              "5"
            ]
          },
          "metadata": {},
          "execution_count": 10
        }
      ]
    },
    {
      "cell_type": "code",
      "source": [
        "x,y,w=1,2,3\n",
        "w"
      ],
      "metadata": {
        "colab": {
          "base_uri": "https://localhost:8080/"
        },
        "id": "xXFJt5NB-w8d",
        "outputId": "56bad8ad-aeca-4cfe-eac8-bbdd772fac69"
      },
      "execution_count": null,
      "outputs": [
        {
          "output_type": "execute_result",
          "data": {
            "text/plain": [
              "3"
            ]
          },
          "metadata": {},
          "execution_count": 11
        }
      ]
    },
    {
      "cell_type": "code",
      "execution_count": null,
      "metadata": {
        "id": "vOGe5OQUzoTe",
        "colab": {
          "base_uri": "https://localhost:8080/"
        },
        "outputId": "b33aab32-7ce2-4146-ecf4-f0c6e71b5ca7"
      },
      "outputs": [
        {
          "output_type": "stream",
          "name": "stdout",
          "text": [
            "Hello phython\n"
          ]
        }
      ],
      "source": [
        "# basics of python\n",
        "print (\"Hello phython\")"
      ]
    },
    {
      "cell_type": "code",
      "source": [
        "#variable cannot start with a number, special symbols\n",
        "#stricttyped, loosely typed\n",
        "#some programs like c ends with; {}\n",
        "#indentation is important in python"
      ],
      "metadata": {
        "id": "iayXhgUB0Urg"
      },
      "execution_count": null,
      "outputs": []
    },
    {
      "cell_type": "code",
      "source": [
        "#input()\n",
        "#basic datatype is string\n",
        "#string are with \"\" and ''\n",
        "x=input(\"Enter his name\")\n",
        "x"
      ],
      "metadata": {
        "colab": {
          "base_uri": "https://localhost:8080/",
          "height": 53
        },
        "id": "R7Jpklbi2UKf",
        "outputId": "e8958fa9-4283-44df-ccda-d6af59ec795c"
      },
      "execution_count": null,
      "outputs": [
        {
          "name": "stdout",
          "output_type": "stream",
          "text": [
            "Enter his namepython\n"
          ]
        },
        {
          "output_type": "execute_result",
          "data": {
            "text/plain": [
              "'python'"
            ],
            "application/vnd.google.colaboratory.intrinsic+json": {
              "type": "string"
            }
          },
          "metadata": {},
          "execution_count": 7
        }
      ]
    },
    {
      "cell_type": "code",
      "source": [
        "#type conversion\n",
        "#int() #float() #str() bool()\n",
        "x=int(input(\"Enter first value\"))\n",
        "y=int(input(\"Enter second value\"))\n",
        "z=x+y\n",
        "z"
      ],
      "metadata": {
        "colab": {
          "base_uri": "https://localhost:8080/"
        },
        "id": "rfuCwS-V3iwi",
        "outputId": "fb407136-6bd5-4ef1-9484-9059e8a66e61"
      },
      "execution_count": null,
      "outputs": [
        {
          "name": "stdout",
          "output_type": "stream",
          "text": [
            "Enter first value10\n",
            "Enter second value20\n"
          ]
        },
        {
          "output_type": "execute_result",
          "data": {
            "text/plain": [
              "30"
            ]
          },
          "metadata": {},
          "execution_count": 9
        }
      ]
    }
  ]
}